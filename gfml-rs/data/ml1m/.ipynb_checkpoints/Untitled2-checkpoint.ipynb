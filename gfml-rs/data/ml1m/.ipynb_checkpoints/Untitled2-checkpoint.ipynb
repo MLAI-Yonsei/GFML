{
 "cells": [
  {
   "cell_type": "code",
   "execution_count": 1,
   "id": "ccdfe7d3",
   "metadata": {},
   "outputs": [],
   "source": [
    "import os\n",
    "import pandas as pd\n",
    "import numpy as np"
   ]
  },
  {
   "cell_type": "code",
   "execution_count": 2,
   "id": "7c456eed",
   "metadata": {},
   "outputs": [],
   "source": [
    "class DatasetLoader(object):\n",
    "    def load(self):\n",
    "        \"\"\"Minimum condition for dataset:\n",
    "          * All users must have at least one item record.\n",
    "          * All items must have at least one user record.\n",
    "        \"\"\"\n",
    "        raise NotImplementedError\n",
    "\n",
    "class MovieLens1M(DatasetLoader):\n",
    "    def __init__(self, data_dir):\n",
    "        self.fpath = os.path.join(data_dir, 'ratings.dat')\n",
    "\n",
    "    def load(self):\n",
    "        # Load data\n",
    "        df = pd.read_csv(self.fpath,\n",
    "                         sep='::',\n",
    "                         engine='python',\n",
    "                         names=['user', 'item', 'rate', 'time'])\n",
    "        # TODO: Remove negative rating?\n",
    "        # df = df[df['rate'] >= 3]\n",
    "        return df\n",
    "    \n",
    "def convert_unique_idx(df, column_name):\n",
    "    column_dict = {x: i for i, x in enumerate(df[column_name].unique())}\n",
    "    df[column_name] = df[column_name].apply(column_dict.get)\n",
    "    df[column_name] = df[column_name].astype('int')\n",
    "    assert df[column_name].min() == 0\n",
    "    assert df[column_name].max() == len(column_dict) - 1\n",
    "    return df, column_dict\n",
    "\n",
    "def create_user_list(df, user_size):\n",
    "    user_list = [list() for u in range(user_size)]\n",
    "    for row in df.itertuples():\n",
    "        user_list[row.user].append((row.time, row.item))\n",
    "    return user_list\n",
    "\n",
    "def split_train_test(df, user_size, test_size=0.2, time_order=False):\n",
    "    \"\"\"Split a dataset into `train_user_list` and `test_user_list`.\n",
    "    Because it needs `user_list` for splitting dataset as `time_order` is set,\n",
    "    Returning `user_list` data structure will be a good choice.\"\"\"\n",
    "    # TODO: Handle duplicated items\n",
    "    if not time_order:\n",
    "        test_idx = np.random.choice(len(df), size=int(len(df)*test_size))\n",
    "        train_idx = list(set(range(len(df))) - set(test_idx))\n",
    "        test_df = df.loc[test_idx].reset_index(drop=True)\n",
    "        train_df = df.loc[train_idx].reset_index(drop=True)\n",
    "        test_user_list = create_user_list(test_df, user_size)\n",
    "        train_user_list = create_user_list(train_df, user_size)\n",
    "    else:\n",
    "        total_user_list = create_user_list(df, user_size)\n",
    "        train_user_list = [None] * len(user_list)\n",
    "        test_user_list = [None] * len(user_list)\n",
    "        for user, item_list in enumerate(total_user_list):\n",
    "            # Choose latest item\n",
    "            item_list = sorted(item_list, key=lambda x: x[0])\n",
    "            # Split item\n",
    "            test_item = item_list[math.ceil(len(item_list)*(1-test_size)):]\n",
    "            train_item = item_list[:math.ceil(len(item_list)*(1-test_size))]\n",
    "            # Register to each user list\n",
    "            test_user_list[user] = test_item\n",
    "            train_user_list[user] = train_item\n",
    "        \n",
    "    # Remove time\n",
    "    test_user_list = [list(map(lambda x: x[1], l)) for l in test_user_list]\n",
    "    train_user_list = [list(map(lambda x: x[1], l)) for l in train_user_list]\n",
    "    return train_user_list, test_user_list"
   ]
  },
  {
   "cell_type": "code",
   "execution_count": 3,
   "id": "dacbf9f6",
   "metadata": {},
   "outputs": [],
   "source": [
    "ml1m = MovieLens1M('../data/ml-1m/')"
   ]
  },
  {
   "cell_type": "code",
   "execution_count": 30,
   "id": "dd28d45c",
   "metadata": {},
   "outputs": [],
   "source": [
    "data = pd.read_csv(\"../data/ml-1m/users.dat\",sep='::',\n",
    "                         engine='python',\n",
    "                         names=['id', 'gender', 'age', 'job', 'zipcode'])"
   ]
  },
  {
   "cell_type": "code",
   "execution_count": 31,
   "id": "d2b341e4",
   "metadata": {},
   "outputs": [
    {
     "data": {
      "text/html": [
       "<div>\n",
       "<style scoped>\n",
       "    .dataframe tbody tr th:only-of-type {\n",
       "        vertical-align: middle;\n",
       "    }\n",
       "\n",
       "    .dataframe tbody tr th {\n",
       "        vertical-align: top;\n",
       "    }\n",
       "\n",
       "    .dataframe thead th {\n",
       "        text-align: right;\n",
       "    }\n",
       "</style>\n",
       "<table border=\"1\" class=\"dataframe\">\n",
       "  <thead>\n",
       "    <tr style=\"text-align: right;\">\n",
       "      <th></th>\n",
       "      <th>id</th>\n",
       "      <th>gender</th>\n",
       "      <th>age</th>\n",
       "      <th>job</th>\n",
       "      <th>zipcode</th>\n",
       "    </tr>\n",
       "  </thead>\n",
       "  <tbody>\n",
       "    <tr>\n",
       "      <th>0</th>\n",
       "      <td>1</td>\n",
       "      <td>F</td>\n",
       "      <td>1</td>\n",
       "      <td>10</td>\n",
       "      <td>48067</td>\n",
       "    </tr>\n",
       "    <tr>\n",
       "      <th>1</th>\n",
       "      <td>2</td>\n",
       "      <td>M</td>\n",
       "      <td>56</td>\n",
       "      <td>16</td>\n",
       "      <td>70072</td>\n",
       "    </tr>\n",
       "    <tr>\n",
       "      <th>2</th>\n",
       "      <td>3</td>\n",
       "      <td>M</td>\n",
       "      <td>25</td>\n",
       "      <td>15</td>\n",
       "      <td>55117</td>\n",
       "    </tr>\n",
       "    <tr>\n",
       "      <th>3</th>\n",
       "      <td>4</td>\n",
       "      <td>M</td>\n",
       "      <td>45</td>\n",
       "      <td>7</td>\n",
       "      <td>02460</td>\n",
       "    </tr>\n",
       "    <tr>\n",
       "      <th>4</th>\n",
       "      <td>5</td>\n",
       "      <td>M</td>\n",
       "      <td>25</td>\n",
       "      <td>20</td>\n",
       "      <td>55455</td>\n",
       "    </tr>\n",
       "    <tr>\n",
       "      <th>...</th>\n",
       "      <td>...</td>\n",
       "      <td>...</td>\n",
       "      <td>...</td>\n",
       "      <td>...</td>\n",
       "      <td>...</td>\n",
       "    </tr>\n",
       "    <tr>\n",
       "      <th>6035</th>\n",
       "      <td>6036</td>\n",
       "      <td>F</td>\n",
       "      <td>25</td>\n",
       "      <td>15</td>\n",
       "      <td>32603</td>\n",
       "    </tr>\n",
       "    <tr>\n",
       "      <th>6036</th>\n",
       "      <td>6037</td>\n",
       "      <td>F</td>\n",
       "      <td>45</td>\n",
       "      <td>1</td>\n",
       "      <td>76006</td>\n",
       "    </tr>\n",
       "    <tr>\n",
       "      <th>6037</th>\n",
       "      <td>6038</td>\n",
       "      <td>F</td>\n",
       "      <td>56</td>\n",
       "      <td>1</td>\n",
       "      <td>14706</td>\n",
       "    </tr>\n",
       "    <tr>\n",
       "      <th>6038</th>\n",
       "      <td>6039</td>\n",
       "      <td>F</td>\n",
       "      <td>45</td>\n",
       "      <td>0</td>\n",
       "      <td>01060</td>\n",
       "    </tr>\n",
       "    <tr>\n",
       "      <th>6039</th>\n",
       "      <td>6040</td>\n",
       "      <td>M</td>\n",
       "      <td>25</td>\n",
       "      <td>6</td>\n",
       "      <td>11106</td>\n",
       "    </tr>\n",
       "  </tbody>\n",
       "</table>\n",
       "<p>6040 rows × 5 columns</p>\n",
       "</div>"
      ],
      "text/plain": [
       "        id gender  age  job zipcode\n",
       "0        1      F    1   10   48067\n",
       "1        2      M   56   16   70072\n",
       "2        3      M   25   15   55117\n",
       "3        4      M   45    7   02460\n",
       "4        5      M   25   20   55455\n",
       "...    ...    ...  ...  ...     ...\n",
       "6035  6036      F   25   15   32603\n",
       "6036  6037      F   45    1   76006\n",
       "6037  6038      F   56    1   14706\n",
       "6038  6039      F   45    0   01060\n",
       "6039  6040      M   25    6   11106\n",
       "\n",
       "[6040 rows x 5 columns]"
      ]
     },
     "execution_count": 31,
     "metadata": {},
     "output_type": "execute_result"
    }
   ],
   "source": [
    "data"
   ]
  },
  {
   "cell_type": "code",
   "execution_count": 4,
   "id": "d28be46e",
   "metadata": {},
   "outputs": [],
   "source": [
    "df = ml1m.load()\n",
    "df, user_mapping = convert_unique_idx(df, 'user')\n",
    "df, item_mapping = convert_unique_idx(df, 'item')"
   ]
  },
  {
   "cell_type": "code",
   "execution_count": 21,
   "id": "6ac78ef7",
   "metadata": {},
   "outputs": [],
   "source": [
    "idx2uid = {}\n",
    "for k, v in user_mapping.items():\n",
    "    idx2uid[str(v)] = str(k)"
   ]
  },
  {
   "cell_type": "code",
   "execution_count": 22,
   "id": "30e26b43",
   "metadata": {},
   "outputs": [],
   "source": [
    "import json\n",
    "\n",
    "# create json object from dictionary\n",
    "data = json.dumps(idx2uid)\n",
    "\n",
    "# open file for writing, \"w\" \n",
    "f = open(\"idx2uid.json\",\"w\")\n",
    "f.write(data)\n",
    "f.close()"
   ]
  },
  {
   "cell_type": "code",
   "execution_count": 19,
   "id": "aa139a3a",
   "metadata": {},
   "outputs": [],
   "source": [
    "idx2iid = {}\n",
    "for k,v in item_mapping.items():\n",
    "    idx2iid[str(v)] = str(k)"
   ]
  },
  {
   "cell_type": "code",
   "execution_count": 20,
   "id": "c8d48005",
   "metadata": {},
   "outputs": [],
   "source": [
    "# create json object from dictionary\n",
    "data = json.dumps(idx2iid)\n",
    "\n",
    "# open file for writing, \"w\" \n",
    "f = open(\"idx2iid.json\",\"w\")\n",
    "f.write(data)\n",
    "f.close()"
   ]
  },
  {
   "cell_type": "code",
   "execution_count": 56,
   "id": "a1358309",
   "metadata": {},
   "outputs": [],
   "source": [
    "interaction_list = create_user_list(df, 6040)"
   ]
  },
  {
   "cell_type": "code",
   "execution_count": 58,
   "id": "898768a7",
   "metadata": {},
   "outputs": [],
   "source": [
    "inter_count = []\n",
    "for i in interaction_list:\n",
    "    inter_count.append(len(i))"
   ]
  },
  {
   "cell_type": "code",
   "execution_count": 47,
   "id": "9c058724",
   "metadata": {},
   "outputs": [],
   "source": [
    "user_size = len(df['user'].unique())\n",
    "item_size = len(df['item'].unique())"
   ]
  },
  {
   "cell_type": "code",
   "execution_count": 48,
   "id": "1c94328b",
   "metadata": {
    "scrolled": true
   },
   "outputs": [
    {
     "name": "stderr",
     "output_type": "stream",
     "text": [
      "IOPub data rate exceeded.\n",
      "The notebook server will temporarily stop sending output\n",
      "to the client in order to avoid crashing it.\n",
      "To change this limit, set the config variable\n",
      "`--NotebookApp.iopub_data_rate_limit`.\n",
      "\n",
      "Current values:\n",
      "NotebookApp.iopub_data_rate_limit=1000000.0 (bytes/sec)\n",
      "NotebookApp.rate_limit_window=3.0 (secs)\n",
      "\n"
     ]
    }
   ],
   "source": [
    "train_user_list, test_user_list = split_train_test(df, user_size, test_size=0.2, time_order=False)"
   ]
  },
  {
   "cell_type": "code",
   "execution_count": 34,
   "id": "68808bba",
   "metadata": {},
   "outputs": [],
   "source": [
    "with open(f\"../data/ml-1m/train.txt\", \"w\") as f:\n",
    "    for k, l in enumerate(train_user_list):\n",
    "        f.write(f\"{k}\")\n",
    "        for j in l:\n",
    "            f.write(f\" {j}\")\n",
    "        f.write(\"\\n\")\n",
    "    f.close()"
   ]
  },
  {
   "cell_type": "code",
   "execution_count": 35,
   "id": "55c8c2a3",
   "metadata": {},
   "outputs": [],
   "source": [
    "with open(f\"../data/ml-1m/test.txt\", \"w\") as f:\n",
    "    for k, l in enumerate(test_user_list):\n",
    "        f.write(f\"{k}\")\n",
    "        for j in l:\n",
    "            f.write(f\" {j}\")\n",
    "        f.write(\"\\n\")\n",
    "    f.close()"
   ]
  },
  {
   "cell_type": "code",
   "execution_count": null,
   "id": "569eecbe",
   "metadata": {},
   "outputs": [],
   "source": []
  }
 ],
 "metadata": {
  "kernelspec": {
   "display_name": "clpr",
   "language": "python",
   "name": "clpr"
  },
  "language_info": {
   "codemirror_mode": {
    "name": "ipython",
    "version": 3
   },
   "file_extension": ".py",
   "mimetype": "text/x-python",
   "name": "python",
   "nbconvert_exporter": "python",
   "pygments_lexer": "ipython3",
   "version": "3.9.12"
  }
 },
 "nbformat": 4,
 "nbformat_minor": 5
}
